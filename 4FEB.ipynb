{
 "cells": [
  {
   "cell_type": "markdown",
   "id": "e919020c-4322-4c49-a1aa-12375f4af3f3",
   "metadata": {},
   "source": [
    "ASSIGNMENT: 5"
   ]
  },
  {
   "cell_type": "markdown",
   "id": "01bbb29a-8d30-49e9-a4f8-8cab0ae39bd8",
   "metadata": {},
   "source": [
    "1."
   ]
  },
  {
   "cell_type": "code",
   "execution_count": 1,
   "id": "9370a25b-79c2-45cd-a2a0-1cd40f68d116",
   "metadata": {},
   "outputs": [
    {
     "name": "stdout",
     "output_type": "stream",
     "text": [
      "[('Virat Kohli', 24936), ('Jack Kallis', 25534), ('Ricky Ponting', 27483), ('Sachin Tendulkar', 34357)]\n"
     ]
    }
   ],
   "source": [
    "lst= [('Sachin Tendulkar', 34357), ('Ricky Ponting', 27483), ('Jack Kallis', 25534), ('Virat Kohli', 24936)]\n",
    "sorted_list = sorted(lst, key=lambda x: x[1])\n",
    "print(sorted_list)\n"
   ]
  },
  {
   "cell_type": "markdown",
   "id": "0dd65377-4dc7-4cb2-90c5-904bd1c176a5",
   "metadata": {},
   "source": [
    "for reverse, we use"
   ]
  },
  {
   "cell_type": "code",
   "execution_count": 3,
   "id": "429ff069-8b33-4121-9ccb-c84fab78ba8c",
   "metadata": {},
   "outputs": [
    {
     "name": "stdout",
     "output_type": "stream",
     "text": [
      "[('Sachin Tendulkar', 34357), ('Ricky Ponting', 27483), ('Jack Kallis', 25534), ('Virat Kohli', 24936)]\n"
     ]
    }
   ],
   "source": [
    "lst= [('Sachin Tendulkar', 34357), ('Ricky Ponting', 27483), ('Jack Kallis', 25534), ('Virat Kohli', 24936)]\n",
    "sorted_list = sorted(lst, key=lambda x: x[1],reverse=True)\n",
    "print(sorted_list)\n"
   ]
  },
  {
   "cell_type": "markdown",
   "id": "42f17c92-5f05-464f-a4cf-6b0d8820a593",
   "metadata": {},
   "source": [
    "2."
   ]
  },
  {
   "cell_type": "code",
   "execution_count": 5,
   "id": "81e7e15f-a81a-47bf-a04c-e2218b042c8a",
   "metadata": {},
   "outputs": [
    {
     "name": "stdout",
     "output_type": "stream",
     "text": [
      "[1, 4, 9, 16, 25, 36, 49, 64, 81, 100]\n"
     ]
    }
   ],
   "source": [
    "lst= [1, 2, 3, 4, 5, 6, 7, 8, 9, 10]\n",
    "squared_lst= list(map(lambda x: x**2, lst))\n",
    "print(squared_lst)\n"
   ]
  },
  {
   "cell_type": "markdown",
   "id": "c13e233a-e519-484f-83b5-10862c863c0f",
   "metadata": {},
   "source": [
    "3."
   ]
  },
  {
   "cell_type": "code",
   "execution_count": 6,
   "id": "164cf5df-a022-4b38-b29e-7d4946a55e7e",
   "metadata": {},
   "outputs": [
    {
     "name": "stdout",
     "output_type": "stream",
     "text": [
      "('1', '2', '3', '4', '5', '6', '7', '8', '9', '10')\n"
     ]
    }
   ],
   "source": [
    "Given_String=[1, 2, 3, 4, 5, 6, 7, 8, 9, 10]\n",
    "Expected_String = tuple(map(lambda x:str(x),Given_String))\n",
    "print(Expected_String)"
   ]
  },
  {
   "cell_type": "markdown",
   "id": "e107ddd4-1f75-4672-89fc-a6b35aae8279",
   "metadata": {},
   "source": [
    "4."
   ]
  },
  {
   "cell_type": "code",
   "execution_count": 9,
   "id": "070461d9-007a-4cd6-91e1-6f1c883e7898",
   "metadata": {},
   "outputs": [
    {
     "name": "stdout",
     "output_type": "stream",
     "text": [
      "15511210043330985984000000\n"
     ]
    }
   ],
   "source": [
    "from functools import reduce\n",
    "\n",
    "my_list = list(range(1, 26))\n",
    "\n",
    "product = reduce(lambda x, y: x*y, my_list)\n",
    "print(product)"
   ]
  },
  {
   "cell_type": "markdown",
   "id": "6217a010-1997-43e9-b0bb-dca4413010d0",
   "metadata": {},
   "source": [
    "##### 5."
   ]
  },
  {
   "cell_type": "code",
   "execution_count": 10,
   "id": "cbcaddde-ccd2-426b-9353-3b53d12dd148",
   "metadata": {},
   "outputs": [
    {
     "name": "stdout",
     "output_type": "stream",
     "text": [
      "[6, 60, 90, 120]\n"
     ]
    }
   ],
   "source": [
    "lst= [2, 3, 6, 9, 27, 60, 90, 120, 55, 46]\n",
    "new= list(filter(lambda x:x%2==0 and x%3==0,lst))\n",
    "print(new)"
   ]
  },
  {
   "cell_type": "markdown",
   "id": "312068f9-7db2-491f-878d-58eb76ef3277",
   "metadata": {},
   "source": [
    "6."
   ]
  },
  {
   "cell_type": "code",
   "execution_count": 12,
   "id": "11af8f4a-9463-4761-9196-52f29d607486",
   "metadata": {},
   "outputs": [
    {
     "name": "stdout",
     "output_type": "stream",
     "text": [
      "['php', 'aba', 'radar', 'level']\n"
     ]
    }
   ],
   "source": [
    "word= ['python', 'php', 'aba', 'radar', 'level']\n",
    "pal= list(filter(lambda x:x==x[::-1],word))\n",
    "print(pal)"
   ]
  },
  {
   "cell_type": "code",
   "execution_count": null,
   "id": "b4c64069-444d-4ba6-838a-503e66c7d5b2",
   "metadata": {},
   "outputs": [],
   "source": []
  }
 ],
 "metadata": {
  "kernelspec": {
   "display_name": "Python 3 (ipykernel)",
   "language": "python",
   "name": "python3"
  },
  "language_info": {
   "codemirror_mode": {
    "name": "ipython",
    "version": 3
   },
   "file_extension": ".py",
   "mimetype": "text/x-python",
   "name": "python",
   "nbconvert_exporter": "python",
   "pygments_lexer": "ipython3",
   "version": "3.10.8"
  }
 },
 "nbformat": 4,
 "nbformat_minor": 5
}
